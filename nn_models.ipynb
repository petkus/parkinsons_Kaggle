{
 "cells": [
  {
   "cell_type": "code",
   "execution_count": 4,
   "id": "044c4c31",
   "metadata": {},
   "outputs": [],
   "source": [
    "import yaml\n",
    "import os\n",
    "import pandas as pd\n",
    "import numpy as np\n",
    "from torch.utils.data import DataLoader\n",
    "from nn_models import DefogDataset\n",
    "with open('config.yml', 'r') as file:\n",
    "    config = yaml.safe_load(file)\n",
    "    "
   ]
  },
  {
   "cell_type": "code",
   "execution_count": 5,
   "id": "0fc72455",
   "metadata": {},
   "outputs": [],
   "source": [
    "training_data = DefogDataset()"
   ]
  },
  {
   "cell_type": "code",
   "execution_count": 11,
   "id": "6b70500f",
   "metadata": {},
   "outputs": [],
   "source": [
    "train_dataloader = DataLoader(training_data, batch_size=2, shuffle=True)"
   ]
  },
  {
   "cell_type": "code",
   "execution_count": 19,
   "id": "865e7ee4",
   "metadata": {},
   "outputs": [
    {
     "data": {
      "text/plain": [
       "(tensor([[-0.9166,  0.1274, -0.3449],\n",
       "         [-0.9169,  0.1288, -0.3446],\n",
       "         [-0.9188,  0.1315, -0.3455],\n",
       "         ...,\n",
       "         [-1.0074,  0.0821, -0.2463],\n",
       "         [-1.0045,  0.0791, -0.2358],\n",
       "         [-0.9972,  0.0767, -0.2351]], dtype=torch.float64),\n",
       " tensor([[0],\n",
       "         [0],\n",
       "         [0],\n",
       "         ...,\n",
       "         [0],\n",
       "         [0],\n",
       "         [0]]))"
      ]
     },
     "execution_count": 19,
     "metadata": {},
     "output_type": "execute_result"
    }
   ],
   "source": [
    "training_data[8]"
   ]
  },
  {
   "cell_type": "code",
   "execution_count": 23,
   "id": "c7c00fc3",
   "metadata": {},
   "outputs": [],
   "source": [
    "from torch import nn\n",
    "import torch"
   ]
  },
  {
   "cell_type": "code",
   "execution_count": 34,
   "id": "7648e3f1",
   "metadata": {},
   "outputs": [],
   "source": [
    "rnn = nn.RNN(3, 2, 2)\n",
    "input = torch.randn(20, 3)\n",
    "h0 = torch.randn(2, 2)\n",
    "output, hn = rnn(input, h0)"
   ]
  },
  {
   "cell_type": "code",
   "execution_count": 37,
   "id": "a65e2a4e",
   "metadata": {},
   "outputs": [
    {
     "data": {
      "text/plain": [
       "torch.Size([20, 2])"
      ]
     },
     "execution_count": 37,
     "metadata": {},
     "output_type": "execute_result"
    }
   ],
   "source": [
    "output.shape"
   ]
  },
  {
   "cell_type": "code",
   "execution_count": 41,
   "id": "bdd931c5",
   "metadata": {},
   "outputs": [
    {
     "ename": "AssertionError",
     "evalue": "",
     "output_type": "error",
     "traceback": [
      "\u001b[0;31m---------------------------------------------------------------------------\u001b[0m",
      "\u001b[0;31mAssertionError\u001b[0m                            Traceback (most recent call last)",
      "Cell \u001b[0;32mIn[41], line 1\u001b[0m\n\u001b[0;32m----> 1\u001b[0m \u001b[38;5;28;01massert\u001b[39;00m output\u001b[38;5;241m.\u001b[39mshape \u001b[38;5;241m==\u001b[39m (\u001b[38;5;241m20\u001b[39m,\u001b[38;5;241m3\u001b[39m)\n",
      "\u001b[0;31mAssertionError\u001b[0m: "
     ]
    }
   ],
   "source": [
    "assert output.shape == (20,3)"
   ]
  },
  {
   "cell_type": "code",
   "execution_count": 43,
   "id": "8293328b",
   "metadata": {},
   "outputs": [
    {
     "data": {
      "text/plain": [
       "tensor([[0.2869, 0.4242],\n",
       "        [0.3489, 0.4992],\n",
       "        [0.2894, 0.5090],\n",
       "        [0.4347, 0.6204],\n",
       "        [0.3152, 0.6376],\n",
       "        [0.3048, 0.5009],\n",
       "        [0.3031, 0.5851],\n",
       "        [0.3107, 0.6394],\n",
       "        [0.3009, 0.4961],\n",
       "        [0.3400, 0.4771],\n",
       "        [0.3001, 0.4551],\n",
       "        [0.2832, 0.4684],\n",
       "        [0.2898, 0.5166],\n",
       "        [0.2913, 0.4747],\n",
       "        [0.3136, 0.5125],\n",
       "        [0.2871, 0.4693],\n",
       "        [0.3069, 0.5352],\n",
       "        [0.3114, 0.6265],\n",
       "        [0.3089, 0.5357],\n",
       "        [0.3994, 0.6341]], grad_fn=<SigmoidBackward0>)"
      ]
     },
     "execution_count": 43,
     "metadata": {},
     "output_type": "execute_result"
    }
   ],
   "source": [
    "torch.sigmoid(output)"
   ]
  },
  {
   "cell_type": "code",
   "execution_count": 44,
   "id": "afe34a6e",
   "metadata": {},
   "outputs": [],
   "source": [
    "m = nn.Linear(2, 1)"
   ]
  },
  {
   "cell_type": "code",
   "execution_count": 45,
   "id": "43b7698e",
   "metadata": {},
   "outputs": [
    {
     "data": {
      "text/plain": [
       "tensor([[-0.3514],\n",
       "        [-0.0411],\n",
       "        [-0.1817],\n",
       "        [ 0.4036],\n",
       "        [ 0.1411],\n",
       "        [-0.1543],\n",
       "        [ 0.0026],\n",
       "        [ 0.1325],\n",
       "        [-0.1742],\n",
       "        [-0.1062],\n",
       "        [-0.2547],\n",
       "        [-0.2767],\n",
       "        [-0.1661],\n",
       "        [-0.2418],\n",
       "        [-0.1085],\n",
       "        [-0.2641],\n",
       "        [-0.0833],\n",
       "        [ 0.1079],\n",
       "        [-0.0768],\n",
       "        [ 0.3474]], grad_fn=<AddmmBackward0>)"
      ]
     },
     "execution_count": 45,
     "metadata": {},
     "output_type": "execute_result"
    }
   ],
   "source": [
    "m(output)"
   ]
  },
  {
   "cell_type": "code",
   "execution_count": null,
   "id": "205c7a5e",
   "metadata": {},
   "outputs": [],
   "source": []
  }
 ],
 "metadata": {
  "kernelspec": {
   "display_name": "Python 3 (ipykernel)",
   "language": "python",
   "name": "python3"
  },
  "language_info": {
   "codemirror_mode": {
    "name": "ipython",
    "version": 3
   },
   "file_extension": ".py",
   "mimetype": "text/x-python",
   "name": "python",
   "nbconvert_exporter": "python",
   "pygments_lexer": "ipython3",
   "version": "3.10.9"
  }
 },
 "nbformat": 4,
 "nbformat_minor": 5
}
