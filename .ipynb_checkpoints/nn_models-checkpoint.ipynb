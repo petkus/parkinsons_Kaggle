{
 "cells": [
  {
   "cell_type": "code",
   "execution_count": 4,
   "id": "044c4c31",
   "metadata": {},
   "outputs": [],
   "source": [
    "import yaml\n",
    "import os\n",
    "import pandas as pd\n",
    "import numpy as np\n",
    "from torch.utils.data import DataLoader\n",
    "from nn_models import DefogDataset\n",
    "with open('config.yml', 'r') as file:\n",
    "    config = yaml.safe_load(file)\n",
    "    "
   ]
  },
  {
   "cell_type": "code",
   "execution_count": 5,
   "id": "0fc72455",
   "metadata": {},
   "outputs": [],
   "source": [
    "training_data = DefogDataset()"
   ]
  },
  {
   "cell_type": "code",
   "execution_count": 11,
   "id": "6b70500f",
   "metadata": {},
   "outputs": [],
   "source": [
    "train_dataloader = DataLoader(training_data, batch_size=2, shuffle=True)"
   ]
  },
  {
   "cell_type": "code",
   "execution_count": 19,
   "id": "b7e68284",
   "metadata": {},
   "outputs": [
    {
     "data": {
      "text/plain": [
       "(tensor([[-0.9166,  0.1274, -0.3449],\n",
       "         [-0.9169,  0.1288, -0.3446],\n",
       "         [-0.9188,  0.1315, -0.3455],\n",
       "         ...,\n",
       "         [-1.0074,  0.0821, -0.2463],\n",
       "         [-1.0045,  0.0791, -0.2358],\n",
       "         [-0.9972,  0.0767, -0.2351]], dtype=torch.float64),\n",
       " tensor([[0],\n",
       "         [0],\n",
       "         [0],\n",
       "         ...,\n",
       "         [0],\n",
       "         [0],\n",
       "         [0]]))"
      ]
     },
     "execution_count": 19,
     "metadata": {},
     "output_type": "execute_result"
    }
   ],
   "source": [
    "training_data[8]"
   ]
  },
  {
   "cell_type": "code",
   "execution_count": 23,
   "id": "a23ff9ce",
   "metadata": {},
   "outputs": [],
   "source": [
    "from torch import nn\n",
    "import torch"
   ]
  },
  {
   "cell_type": "code",
   "execution_count": 34,
   "id": "26fa2ec6",
   "metadata": {},
   "outputs": [],
   "source": [
    "rnn = nn.RNN(3, 2, 2)\n",
    "input = torch.randn(20, 3)\n",
    "h0 = torch.randn(2, 2)\n",
    "output, hn = rnn(input, h0)"
   ]
  },
  {
   "cell_type": "code",
   "execution_count": 36,
   "id": "d06f3a9a",
   "metadata": {},
   "outputs": [
    {
     "data": {
      "text/plain": [
       "torch.Size([20, 2])"
      ]
     },
     "execution_count": 36,
     "metadata": {},
     "output_type": "execute_result"
    }
   ],
   "source": [
    "output.shape"
   ]
  },
  {
   "cell_type": "code",
   "execution_count": null,
   "id": "b54575f4",
   "metadata": {},
   "outputs": [],
   "source": []
  }
 ],
 "metadata": {
  "kernelspec": {
   "display_name": "Python 3 (ipykernel)",
   "language": "python",
   "name": "python3"
  },
  "language_info": {
   "codemirror_mode": {
    "name": "ipython",
    "version": 3
   },
   "file_extension": ".py",
   "mimetype": "text/x-python",
   "name": "python",
   "nbconvert_exporter": "python",
   "pygments_lexer": "ipython3",
   "version": "3.10.9"
  }
 },
 "nbformat": 4,
 "nbformat_minor": 5
}
